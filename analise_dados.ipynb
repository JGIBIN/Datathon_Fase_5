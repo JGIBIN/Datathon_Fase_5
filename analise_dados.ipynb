{
  "cells": [
    {
      "cell_type": "markdown",
      "metadata": {
        "id": "U1RJT-F4qxc5"
      },
      "source": [
        "*************\n",
        "Melhorias a serem feitas no processo da empresa:\n",
        "- Melhoria no cadastro das vagas, ex: se a vaga pede disponibilidade para viajem;\n",
        "*************"
      ]
    },
    {
      "cell_type": "markdown",
      "metadata": {
        "id": "sq1tr9udkMLw"
      },
      "source": [
        "# Imports"
      ]
    },
    {
      "cell_type": "code",
      "execution_count": 24,
      "metadata": {
        "id": "ivnT41lPGKHw"
      },
      "outputs": [],
      "source": [
        "import zipfile\n",
        "import json\n",
        "import pandas as pd\n",
        "\n",
        "import numpy as np\n",
        "\n",
        "import matplotlib.pyplot as plt\n",
        "import seaborn as sns\n",
        "from sklearn.preprocessing import OrdinalEncoder\n",
        "\n",
        "from sklearn.ensemble import RandomForestClassifier\n",
        "from sklearn.model_selection import train_test_split\n",
        "from sklearn.metrics import accuracy_score, f1_score\n",
        "from xgboost import XGBClassifier\n",
        "from sklearn.linear_model import LogisticRegression\n",
        "from sklearn.neighbors import KNeighborsClassifier"
      ]
    },
    {
      "cell_type": "markdown",
      "metadata": {
        "id": "VZ3Y7s2BkXvu"
      },
      "source": [
        "# Métodos"
      ]
    },
    {
      "cell_type": "code",
      "execution_count": 25,
      "metadata": {
        "id": "7JOfw1_ZGMZH"
      },
      "outputs": [],
      "source": [
        "def ler_json(caminho_zip):\n",
        "  with zipfile.ZipFile(caminho_zip, 'r') as zip_ref:\n",
        "    nome_arquivo_json = zip_ref.namelist()[0]  # assumindo que só há um arquivo no zip\n",
        "    with zip_ref.open(nome_arquivo_json) as file:\n",
        "        dados = json.load(file)\n",
        "\n",
        "  # Achatar os dados\n",
        "  linhas = []\n",
        "  for chave, conteudo in dados.items():\n",
        "      linha = {\"ID\": chave}\n",
        "      # Flatten (achatar) cada subnível com prefixo\n",
        "      for secao, valores in conteudo.items():\n",
        "          if isinstance(valores, dict):\n",
        "              for subchave, subvalor in valores.items():\n",
        "                  linha[f\"{secao}.{subchave}\"] = subvalor\n",
        "          else:\n",
        "              linha[secao] = valores\n",
        "      linhas.append(linha)\n",
        "\n",
        "  # Criar o DataFrame\n",
        "  df = pd.DataFrame(linhas)\n",
        "  return df"
      ]
    },
    {
      "cell_type": "code",
      "execution_count": 26,
      "metadata": {
        "id": "eymvNYqcPWfA"
      },
      "outputs": [],
      "source": [
        "def ler_json_candidaturas(caminho_zip):\n",
        "  with zipfile.ZipFile(caminho_zip, 'r') as zip_ref:\n",
        "    nome_arquivo_json = zip_ref.namelist()[0]  # assumindo que só há um arquivo no zip\n",
        "    with zip_ref.open(nome_arquivo_json) as file:\n",
        "        dados_candidatura = json.load(file)\n",
        "\n",
        "  linhas_candidatura = []\n",
        "\n",
        "  for codigo_vaga, conteudo in dados_candidatura.items():\n",
        "    prospects = conteudo.get(\"prospects\")\n",
        "\n",
        "    # Verifica se há prospects e se é uma lista com itens\n",
        "    if isinstance(prospects, list) and prospects:\n",
        "        for prospect in prospects:\n",
        "            linha_candidatura = {\n",
        "                'codigo_vaga': codigo_vaga,\n",
        "                'titulo_vaga': conteudo.get('titulo', ''),\n",
        "                'nome': prospect.get('nome', ''),\n",
        "                'codigo_candidato': prospect.get('codigo', ''),\n",
        "                'situacao_candidato': prospect.get('situacao_candidado', ''),\n",
        "                'data_candidatura': prospect.get('data_candidatura', ''),\n",
        "                'ultima_atualizacao': prospect.get('ultima_atualizacao', ''),\n",
        "                'comentario': prospect.get('comentario', ''),\n",
        "                'recrutador': prospect.get('recrutador', '')\n",
        "            }\n",
        "            linhas_candidatura.append(linha_candidatura)\n",
        "\n",
        "  # Criar o DataFrame final\n",
        "  df_candidaturas = pd.DataFrame(linhas_candidatura)\n",
        "  return df_candidaturas"
      ]
    },
    {
      "cell_type": "code",
      "execution_count": 27,
      "metadata": {
        "id": "gwlnzZmkFxK5"
      },
      "outputs": [],
      "source": [
        "def remover_colunas(df, lst_colunas_manter, str_colunas_apagar):\n",
        "    \"\"\"Metodo para remover dinamicamente um conjunto de colunas de um df seguindo um padrao e deixando outras deste mesmo padrao\n",
        "\n",
        "    Args:\n",
        "        df (dataframe): dataframe que terá as colunas removidas\n",
        "        lst_colunas_manter ([string]): lista de strings contendo as colunas que devem ser mantidas\n",
        "        str_colunas_apagar (string): expressao regular contendo as colunas a serem apagadas\n",
        "\n",
        "    Returns:\n",
        "        dataframe: dataframe inicial apos a remocao das colunas solicitadas\n",
        "    \"\"\"\n",
        "    col_apagar = df.columns[df.columns.str.contains(str_colunas_apagar)]\n",
        "    col_apagar_final = [coluna for coluna in col_apagar if coluna not in lst_colunas_manter]\n",
        "    df = df.drop(columns=col_apagar_final)\n",
        "    return df"
      ]
    },
    {
      "cell_type": "code",
      "execution_count": 28,
      "metadata": {
        "id": "r37XN5lcCu0_"
      },
      "outputs": [],
      "source": [
        "def separar_treino_teste(df, lst_colunas, col_target):\n",
        "    \"\"\"Metodo para separar os dados a serem usados para treino e teste\n",
        "\n",
        "    Args:\n",
        "        df (dataFrame): dataFrame com dados a serem estudados\n",
        "        lst_colunas (list): lista de colunas existentes no df que seram utilizadas no treino\n",
        "        col_target (string): nome da coluna existente no df que sera nosso target\n",
        "\n",
        "    Returns:\n",
        "        _type_: dados de treino e teste para os modelos\n",
        "    \"\"\"\n",
        "    X = df[lst_colunas]\n",
        "    y = df[col_target]\n",
        "\n",
        "    return train_test_split(\n",
        "        X, y, test_size=0.2, random_state=42, stratify=y\n",
        "    )"
      ]
    },
    {
      "cell_type": "code",
      "execution_count": 29,
      "metadata": {
        "id": "BDlgX_7wC-2G"
      },
      "outputs": [],
      "source": [
        "def atualizar_resultados(df, modelo, acuracia, f1):\n",
        "    df.loc[len(df)] = [modelo, acuracia, f1]\n",
        "    return df"
      ]
    },
    {
      "cell_type": "code",
      "execution_count": 30,
      "metadata": {
        "id": "ePByuJ7VCvrQ"
      },
      "outputs": [],
      "source": [
        "def treinar_random_forest(df, lst_colunas, col_target, descricao, df_resultados):\n",
        "    \"\"\"Metodo para realizar o treinamento randomForest\n",
        "\n",
        "    Args:\n",
        "        df (dataFrame): dataFrame com dados a serem estudados\n",
        "        lst_colunas (list): lista de colunas existentes no df que seram utilizadas no treino\n",
        "        col_target (string): nome da coluna existente no df que sera nosso target\n",
        "        descricao (string): informacao a ser utilizada para distinguir mais de uma chamada ao memo modelo\n",
        "        df_resultados (dataFrame): dataframe utilizado para guardar os resultados dos treinamentos\n",
        "\n",
        "    Returns:\n",
        "        dataFrame: Ao final sera retornado o dataFrame com os dados dos treinamentos de cada modelo\n",
        "    \"\"\"\n",
        "    X_train, X_test, y_train, y_test = separar_treino_teste(df, lst_colunas, col_target)\n",
        "\n",
        "    modelo_rf = RandomForestClassifier(n_estimators=100, random_state=42)\n",
        "    modelo_rf.fit(X_train, y_train)\n",
        "    y_pred = modelo_rf.predict(X_test)\n",
        "\n",
        "    acc = accuracy_score(y_test, y_pred)\n",
        "    f1 = f1_score(y_test, y_pred, average='binary')\n",
        "    modelo = 'RandomForest ' + descricao\n",
        "\n",
        "    return atualizar_resultados(df_resultados, modelo, acc, f1)"
      ]
    },
    {
      "cell_type": "code",
      "execution_count": 31,
      "metadata": {
        "id": "Kz3rgY1eC0Yp"
      },
      "outputs": [],
      "source": [
        "def treinar_xgboost(df, lst_colunas, col_target, descricao, df_resultados):\n",
        "    \"\"\"Metodo para realizar o treinamento XGBOOST\n",
        "\n",
        "    Args:\n",
        "        df (dataFrame): dataFrame com dados a serem estudados\n",
        "        lst_colunas (list): lista de colunas existentes no df que seram utilizadas no treino\n",
        "        col_target (string): nome da coluna existente no df que sera nosso target\n",
        "        descricao (string): informacao a ser utilizada para distinguir mais de uma chamada ao memo modelo\n",
        "        df_resultados (dataFrame): dataframe utilizado para guardar os resultados dos treinamentos\n",
        "\n",
        "    Returns:\n",
        "        dataFrame: Ao final sera retornado o dataFrame com os dados dos treinamentos de cada modelo\n",
        "    \"\"\"\n",
        "    X_train, X_test, y_train, y_test = separar_treino_teste(df, lst_colunas, col_target)\n",
        "\n",
        "    modelo_xgb = XGBClassifier(random_state=42)\n",
        "    modelo_xgb.fit(X_train, y_train)\n",
        "    y_pred = modelo_xgb.predict(X_test)\n",
        "\n",
        "    acc = accuracy_score(y_test, y_pred)\n",
        "    f1 = f1_score(y_test, y_pred, average='binary')\n",
        "    modelo = 'XGBOOST ' + descricao\n",
        "\n",
        "    return atualizar_resultados(df_resultados, modelo, acc, f1)"
      ]
    },
    {
      "cell_type": "code",
      "execution_count": 32,
      "metadata": {
        "id": "hAY8S1GgC3Sy"
      },
      "outputs": [],
      "source": [
        "def treinar_log_regression(df, lst_colunas, col_target, descricao, df_resultados):\n",
        "    \"\"\"Metodo para realizar o treinamento Logistic Regression\n",
        "\n",
        "    Args:\n",
        "        df (dataFrame): dataFrame com dados a serem estudados\n",
        "        lst_colunas (list): lista de colunas existentes no df que seram utilizadas no treino\n",
        "        col_target (string): nome da coluna existente no df que sera nosso target\n",
        "        descricao (string): informacao a ser utilizada para distinguir mais de uma chamada ao memo modelo\n",
        "        df_resultados (dataFrame): dataframe utilizado para guardar os resultados dos treinamentos\n",
        "\n",
        "    Returns:\n",
        "        dataFrame: Ao final sera retornado o dataFrame com os dados dos treinamentos de cada modelo\n",
        "    \"\"\"\n",
        "    X_train, X_test, y_train, y_test = separar_treino_teste(df, lst_colunas, col_target)\n",
        "\n",
        "    modelo_log = LogisticRegression(max_iter=1000)\n",
        "    modelo_log.fit(X_train, y_train)\n",
        "    y_pred = modelo_log.predict(X_test)\n",
        "\n",
        "    acc = accuracy_score(y_test, y_pred)\n",
        "    f1 = f1_score(y_test, y_pred, average='binary')\n",
        "    modelo = 'LogisticRegression ' + descricao\n",
        "\n",
        "    return atualizar_resultados(df_resultados, modelo, acc, f1)"
      ]
    },
    {
      "cell_type": "code",
      "execution_count": 33,
      "metadata": {
        "id": "iK2NxOnLC6Kw"
      },
      "outputs": [],
      "source": [
        "def treinar_knn(df, lst_colunas, col_target, descricao, df_resultados):\n",
        "    \"\"\"Metodo para realizar o treinamento KNN\n",
        "\n",
        "    Args:\n",
        "        df (dataFrame): dataFrame com dados a serem estudados\n",
        "        lst_colunas (list): lista de colunas existentes no df que seram utilizadas no treino\n",
        "        col_target (string): nome da coluna existente no df que sera nosso target\n",
        "        descricao (string): informacao a ser utilizada para distinguir mais de uma chamada ao memo modelo\n",
        "        df_resultados (dataFrame): dataframe utilizado para guardar os resultados dos treinamentos\n",
        "\n",
        "    Returns:\n",
        "        dataFrame: Ao final sera retornado o dataFrame com os dados dos treinamentos de cada modelo\n",
        "    \"\"\"\n",
        "    X_train, X_test, y_train, y_test = separar_treino_teste(df, lst_colunas, col_target)\n",
        "\n",
        "    modelo_knn = KNeighborsClassifier(n_neighbors=5)\n",
        "    modelo_knn.fit(X_train, y_train)\n",
        "    y_pred = modelo_knn.predict(X_test)\n",
        "\n",
        "    acc = accuracy_score(y_test, y_pred)\n",
        "    f1 = f1_score(y_test, y_pred, average='binary')\n",
        "    modelo = 'KNN ' + descricao\n",
        "\n",
        "    return atualizar_resultados(df_resultados, modelo, acc, f1)"
      ]
    },
    {
      "cell_type": "code",
      "execution_count": 34,
      "metadata": {
        "id": "S_qD289fmLpg"
      },
      "outputs": [],
      "source": [
        "def verificar_compatibilidade_ajustada(row, coluna_candidato, coluna_vaga):\n",
        "    \"\"\"\n",
        "    Verifica se alguma área do candidato está contida como substring na\n",
        "    string completa de áreas da vaga.\n",
        "\n",
        "    Depois adaptado para servir para a comparacao de colunas genericas. TODO: quebrar essa parte em outro metodo\n",
        "\n",
        "    Retorna:\n",
        "        1 se houver compatibilidade.\n",
        "        0 se não houver compatibilidade.\n",
        "    \"\"\"\n",
        "    cand_str = row[coluna_candidato]\n",
        "    vaga_str = row[coluna_vaga]\n",
        "    #cand_str = row['informacoes_profissionais.area_atuacao']\n",
        "    #vaga_str = row['perfil_vaga.areas_atuacao']\n",
        "\n",
        "    # Se algum dos campos for nulo/vazio, retorna 0.\n",
        "    if not isinstance(cand_str, str) or not isinstance(vaga_str, str):\n",
        "        return 0\n",
        "\n",
        "    # Etapa 1: Limpar e criar a lista de áreas do CANDIDATO (lógica mantida).\n",
        "    # Ex: 'TI - SAP, Administrativo' -> ['ti - sap', 'administrativo']\n",
        "    lista_candidato = [s.strip().lower() for s in cand_str.split(',')]\n",
        "\n",
        "    # Etapa 2: Limpar a string da VAGA como um bloco único (lógica ajustada).\n",
        "    # Não fazemos mais o split!\n",
        "    # Ex: 'Comercial-Financeiro-TI - Infra-' -> 'comercial-financeiro-ti - infra-'\n",
        "    vaga_texto_completo = vaga_str.strip().lower()\n",
        "\n",
        "    # Etapa 3: Comparar cada área do candidato com o texto completo da vaga.\n",
        "    for area_cand in lista_candidato:\n",
        "        # Verifica se a área do candidato (ex: 'ti - infra') existe\n",
        "        # dentro do texto da vaga (ex: 'comercial-financeiro-ti - infra-')\n",
        "        if area_cand in vaga_texto_completo:\n",
        "            return 1 # Encontrou, retorna 1 e encerra.\n",
        "\n",
        "    # Se o loop terminar sem encontrar nenhuma correspondência, retorna 0.\n",
        "    return 0"
      ]
    },
    {
      "cell_type": "code",
      "execution_count": 35,
      "metadata": {
        "id": "fufxiP6BmfS3"
      },
      "outputs": [],
      "source": [
        "def comparar_nivel(row, dicionario, coluna_candidato, coluna_vaga):\n",
        "    \"\"\"\n",
        "    Função genérica que compara o nível de proficiência em qualquer idioma.\n",
        "\n",
        "    Argumentos:\n",
        "      row: A linha do DataFrame (passada pelo apply).\n",
        "      coluna_candidato (str): O nome da coluna com o nível do candidato.\n",
        "      coluna_vaga (str): O nome da coluna com o nível exigido pela vaga.\n",
        "\n",
        "    Retorna:\n",
        "      1 se o candidato for compatível, 0 caso contrário.\n",
        "    \"\"\"\n",
        "    # Usa os argumentos para pegar os valores das colunas corretas\n",
        "    nivel_cand_str = row[coluna_candidato]\n",
        "    nivel_vaga_str = row[coluna_vaga]\n",
        "\n",
        "    # recupera o valor numérico do nível segundo o dicionário passado\n",
        "    valor_cand = dicionario.get(nivel_cand_str, -1)\n",
        "    valor_vaga = dicionario.get(nivel_vaga_str, -1)\n",
        "\n",
        "    # if valor_cand == -1 or valor_vaga == -1:\n",
        "    #     return 0\n",
        "\n",
        "    return 1 if valor_cand >= valor_vaga else 0"
      ]
    },
    {
      "cell_type": "markdown",
      "metadata": {
        "id": "nFQXcW6Dkad-"
      },
      "source": [
        "# Importação dos dados"
      ]
    },
    {
      "cell_type": "code",
      "execution_count": 36,
      "metadata": {
        "id": "ChmgiSIVGrVA"
      },
      "outputs": [],
      "source": [
        "df_applicants = ler_json(\"dados\\\\applicants.zip\")\n",
        "df_vagas = ler_json(\"dados\\\\vagas.zip\")"
      ]
    },
    {
      "cell_type": "code",
      "execution_count": 37,
      "metadata": {
        "id": "4uFhQ_wjP24n"
      },
      "outputs": [],
      "source": [
        "df_prospects = ler_json_candidaturas(\"dados\\\\prospects.zip\")"
      ]
    },
    {
      "cell_type": "code",
      "execution_count": 38,
      "metadata": {
        "id": "q4z4GT_e_Exv"
      },
      "outputs": [],
      "source": [
        "df_applicants_ori = df_applicants.copy()\n",
        "df_vagas_ori      = df_vagas.copy()\n",
        "df_prospects_ori  = df_prospects.copy()"
      ]
    },
    {
      "cell_type": "markdown",
      "metadata": {
        "id": "RLQ49KBykexl"
      },
      "source": [
        "# Tratamento dos dados"
      ]
    },
    {
      "cell_type": "markdown",
      "metadata": {
        "id": "RrJtRusomfOm"
      },
      "source": [
        "## prospects"
      ]
    },
    {
      "cell_type": "code",
      "execution_count": 39,
      "metadata": {
        "id": "pB1mfDZ7kmyX"
      },
      "outputs": [],
      "source": [
        "df_prospects.drop(columns=['nome', 'data_candidatura',\n",
        "                           'recrutador', 'ultima_atualizacao',\n",
        "                           'comentario', 'recrutador', 'titulo_vaga'\n",
        "                           ], inplace=True)"
      ]
    },
    {
      "cell_type": "code",
      "execution_count": 40,
      "metadata": {
        "colab": {
          "base_uri": "https://localhost:8080/",
          "height": 206
        },
        "id": "Sdx4N_-zlg8r",
        "outputId": "789d782c-0cbe-4ec7-c344-526fda4b26ae"
      },
      "outputs": [
        {
          "data": {
            "text/html": [
              "<div>\n",
              "<style scoped>\n",
              "    .dataframe tbody tr th:only-of-type {\n",
              "        vertical-align: middle;\n",
              "    }\n",
              "\n",
              "    .dataframe tbody tr th {\n",
              "        vertical-align: top;\n",
              "    }\n",
              "\n",
              "    .dataframe thead th {\n",
              "        text-align: right;\n",
              "    }\n",
              "</style>\n",
              "<table border=\"1\" class=\"dataframe\">\n",
              "  <thead>\n",
              "    <tr style=\"text-align: right;\">\n",
              "      <th></th>\n",
              "      <th>codigo_vaga</th>\n",
              "      <th>codigo_candidato</th>\n",
              "      <th>situacao_candidato</th>\n",
              "    </tr>\n",
              "  </thead>\n",
              "  <tbody>\n",
              "    <tr>\n",
              "      <th>0</th>\n",
              "      <td>4530</td>\n",
              "      <td>25632</td>\n",
              "      <td>Encaminhado ao Requisitante</td>\n",
              "    </tr>\n",
              "    <tr>\n",
              "      <th>1</th>\n",
              "      <td>4530</td>\n",
              "      <td>25529</td>\n",
              "      <td>Encaminhado ao Requisitante</td>\n",
              "    </tr>\n",
              "    <tr>\n",
              "      <th>2</th>\n",
              "      <td>4531</td>\n",
              "      <td>25364</td>\n",
              "      <td>Contratado pela Decision</td>\n",
              "    </tr>\n",
              "    <tr>\n",
              "      <th>3</th>\n",
              "      <td>4531</td>\n",
              "      <td>25360</td>\n",
              "      <td>Encaminhado ao Requisitante</td>\n",
              "    </tr>\n",
              "    <tr>\n",
              "      <th>4</th>\n",
              "      <td>4533</td>\n",
              "      <td>26338</td>\n",
              "      <td>Contratado pela Decision</td>\n",
              "    </tr>\n",
              "  </tbody>\n",
              "</table>\n",
              "</div>"
            ],
            "text/plain": [
              "  codigo_vaga codigo_candidato           situacao_candidato\n",
              "0        4530            25632  Encaminhado ao Requisitante\n",
              "1        4530            25529  Encaminhado ao Requisitante\n",
              "2        4531            25364     Contratado pela Decision\n",
              "3        4531            25360  Encaminhado ao Requisitante\n",
              "4        4533            26338     Contratado pela Decision"
            ]
          },
          "execution_count": 40,
          "metadata": {},
          "output_type": "execute_result"
        }
      ],
      "source": [
        "df_prospects.head()"
      ]
    },
    {
      "cell_type": "markdown",
      "metadata": {
        "id": "SV_z12Iemi9W"
      },
      "source": [
        "## vagas"
      ]
    },
    {
      "cell_type": "code",
      "execution_count": 41,
      "metadata": {
        "colab": {
          "base_uri": "https://localhost:8080/"
        },
        "id": "VrzyzGKtoQJu",
        "outputId": "7b2d70ca-1c49-40f6-fca6-d34cba3e07af"
      },
      "outputs": [
        {
          "data": {
            "text/plain": [
              "(14081, 45)"
            ]
          },
          "execution_count": 41,
          "metadata": {},
          "output_type": "execute_result"
        }
      ],
      "source": [
        "df_vagas.shape"
      ]
    },
    {
      "cell_type": "code",
      "execution_count": 42,
      "metadata": {
        "id": "RdkZqCEKmMe7"
      },
      "outputs": [],
      "source": [
        "col_vagas_manter = [#'informacoes_basicas.empresa_divisao',\n",
        "                    #'informacoes_basicas.objetivo_vaga',\n",
        "                    #'informacoes_basicas.prioridade_vaga',\n",
        "                    'perfil_vaga.estado',\n",
        "                    #'perfil_vaga.faixa_etaria',\n",
        "                    'perfil_vaga.nivel profissional',\n",
        "                    'perfil_vaga.nivel_academico',\n",
        "                    'perfil_vaga.nivel_ingles',\n",
        "                    'perfil_vaga.nivel_espanhol',\n",
        "                    'perfil_vaga.outro_idioma',\n",
        "                    'perfil_vaga.areas_atuacao',\n",
        "                    #'perfil_vaga.principais_atividades',\n",
        "                    #'perfil_vaga.competencia_tecnicas_e_comportamentais'\n",
        "                    'informacoes_basicas.tipo_contratacao'\n",
        "                    ]\n",
        "\n",
        "df_vagas = remover_colunas(df_vagas,\n",
        "                           col_vagas_manter,\n",
        "                           'informacoes_basicas\\.|perfil_vaga\\.|beneficios\\.')"
      ]
    },
    {
      "cell_type": "code",
      "execution_count": 43,
      "metadata": {
        "id": "ZmxJ_u0kTwcR"
      },
      "outputs": [],
      "source": [
        "# Padronizando os dados 'vazios'\n",
        "\n",
        "df_vagas = df_vagas[df_vagas['perfil_vaga.nivel_espanhol'] != '']\n",
        "\n",
        "\n",
        "df_vagas['perfil_vaga.outro_idioma'] = df_vagas['perfil_vaga.outro_idioma'].replace('', 'Nenhum').str.replace(' - ',' ')"
      ]
    },
    {
      "cell_type": "code",
      "execution_count": 44,
      "metadata": {
        "colab": {
          "base_uri": "https://localhost:8080/"
        },
        "id": "eUFgh98nn-ur",
        "outputId": "ac9e338c-2608-4059-e4f0-be8e7c5e34e7"
      },
      "outputs": [
        {
          "data": {
            "text/plain": [
              "Index(['ID', 'informacoes_basicas.tipo_contratacao', 'perfil_vaga.estado',\n",
              "       'perfil_vaga.nivel profissional', 'perfil_vaga.nivel_academico',\n",
              "       'perfil_vaga.nivel_ingles', 'perfil_vaga.nivel_espanhol',\n",
              "       'perfil_vaga.outro_idioma', 'perfil_vaga.areas_atuacao'],\n",
              "      dtype='object')"
            ]
          },
          "execution_count": 44,
          "metadata": {},
          "output_type": "execute_result"
        }
      ],
      "source": [
        "df_vagas.columns"
      ]
    },
    {
      "cell_type": "markdown",
      "metadata": {
        "id": "E_BIDed0mltL"
      },
      "source": [
        "## applicants"
      ]
    },
    {
      "cell_type": "code",
      "execution_count": 45,
      "metadata": {
        "id": "zr_s0whqMGtC"
      },
      "outputs": [],
      "source": [
        "col_applicants_manter = ['informacoes_pessoais.endereco',\n",
        "                         #'infos_basicas.objetivo_profissional',\n",
        "                         #'informacoes_pessoais.pcd',\n",
        "                         #'informacoes_profissionais.titulo_profissional',\n",
        "                         'informacoes_profissionais.area_atuacao',\n",
        "                         #'informacoes_profissionais.conhecimentos_tecnicos',\n",
        "                         #'informacoes_profissionais.certificacoes',\n",
        "                         #'informacoes_profissionais.outras_certificacoes',\n",
        "                         #'informacoes_profissionais.nivel_profissional',\n",
        "                         'formacao_e_idiomas.nivel_academico',\n",
        "                         'formacao_e_idiomas.nivel_ingles',\n",
        "                         'formacao_e_idiomas.nivel_espanhol',\n",
        "                         'formacao_e_idiomas.outro_idioma',\n",
        "                         'formacao_e_idiomas.cursos'\n",
        "                         #'informacoes_pessoais.data_nascimento'\n",
        "                         #'informacoes_profissionais.qualificacoes',\n",
        "                         #'informacoes_profissionais.experiencias',\n",
        "                         #'formacao_e_idiomas.outro_curso'\n",
        "                         ]\n",
        "df_applicants = remover_colunas(df_applicants,\n",
        "                                col_applicants_manter,\n",
        "                                'infos_basicas\\.|informacoes_pessoais\\.|informacoes_profissionais\\.|cargo_atual\\.|formacao_e_idiomas.instituicao_ensino_superior|formacao_e_idiomas.cursos')\n",
        "\n",
        "df_applicants.drop(columns=['cv_pt', 'cv_en',\n",
        "                            'formacao_e_idiomas.ano_conclusao', 'formacao_e_idiomas.outro_curso'\n",
        "                             ], inplace=True)"
      ]
    },
    {
      "cell_type": "code",
      "execution_count": 46,
      "metadata": {
        "colab": {
          "base_uri": "https://localhost:8080/"
        },
        "id": "Hnqs9YDZKm2C",
        "outputId": "3de98787-c2e4-4da5-ce72-5c8d17a78163"
      },
      "outputs": [
        {
          "name": "stdout",
          "output_type": "stream",
          "text": [
            "(42482, 8)\n",
            "Index(['ID', 'informacoes_pessoais.endereco',\n",
            "       'informacoes_profissionais.area_atuacao',\n",
            "       'formacao_e_idiomas.nivel_academico', 'formacao_e_idiomas.nivel_ingles',\n",
            "       'formacao_e_idiomas.nivel_espanhol', 'formacao_e_idiomas.outro_idioma',\n",
            "       'formacao_e_idiomas.cursos'],\n",
            "      dtype='object')\n"
          ]
        }
      ],
      "source": [
        "print(df_applicants.shape)\n",
        "print(df_applicants.columns)"
      ]
    },
    {
      "cell_type": "code",
      "execution_count": 47,
      "metadata": {
        "id": "tUGZ7DUgLTgV"
      },
      "outputs": [],
      "source": [
        "# Padronizando os dados 'vazios'\n",
        "\n",
        "df_applicants['formacao_e_idiomas.outro_idioma'] = df_applicants['formacao_e_idiomas.outro_idioma']. \\\n",
        "  replace('-', 'Nenhum'). \\\n",
        "  replace('Português -', 'Nenhum'). \\\n",
        "  replace('Alemão - Nenhum', 'Nenhum'). \\\n",
        "  replace('Japonês - Nenhum\t', 'Nenhum'). \\\n",
        "  str.replace(' -', '')\n",
        "\n",
        "\n",
        "#df_applicants['formacao_e_idiomas.nivel_ingles'] = df_applicants['formacao_e_idiomas.nivel_ingles'].replace('', 'Nenhum')\n",
        "df_applicants = df_applicants[df_applicants['formacao_e_idiomas.nivel_ingles'] != '']\n",
        "\n",
        "\n",
        "#df_applicants['formacao_e_idiomas.nivel_espanhol'] = df_applicants['formacao_e_idiomas.nivel_espanhol'].replace('', 'Nenhum')\n",
        "df_applicants = df_applicants[df_applicants['formacao_e_idiomas.nivel_espanhol'] != '']\n",
        "\n",
        "\n",
        "df_applicants = df_applicants[df_applicants['formacao_e_idiomas.nivel_academico'] != '']"
      ]
    },
    {
      "cell_type": "markdown",
      "metadata": {
        "id": "MmYhr20Al1ey"
      },
      "source": [
        "# Treinando o modelo"
      ]
    },
    {
      "cell_type": "markdown",
      "metadata": {
        "id": "Fo3H6VRJAspV"
      },
      "source": [
        "## Unificando dados"
      ]
    },
    {
      "cell_type": "code",
      "execution_count": 48,
      "metadata": {
        "id": "FmQGYdGfl__2"
      },
      "outputs": [],
      "source": [
        "df_merge = pd. \\\n",
        "  merge(df_prospects, df_vagas, left_on='codigo_vaga', right_on='ID', how='inner'). \\\n",
        "  merge(df_applicants, left_on='codigo_candidato', right_on='ID', how='inner')\n",
        "\n",
        "df_merge_original = df_merge.copy()"
      ]
    },
    {
      "cell_type": "code",
      "execution_count": 49,
      "metadata": {
        "id": "_-y_69m4HUmt"
      },
      "outputs": [],
      "source": [
        "# Tratando os dados a serem utilizados como 'target'\n",
        "lst_situacoes_aprovado = ['Encaminhado ao Requisitante',\n",
        "  'Contratado pela Decision', 'Entrevista com Cliente', 'Em avaliação pelo RH',\n",
        "                          'Aprovado', 'Contratado como Hunting', 'Proposta Aceita','Encaminhar Proposta',\n",
        "                          'Entrevista Técnica']\n",
        "lst_situacoes_reprovado = ['Prospect', 'Não Aprovado pelo Cliente','Não Aprovado pelo RH',\n",
        "  'Não Aprovado pelo Requisitante','Desistiu da Contratação','Recusado']\n",
        "lst_situacoes_remover = ['Inscrito', 'Desistiu', 'Sem interesse nesta vaga',\n",
        "                         'Documentação PJ','Documentação CLT',\n",
        "                         'Documentação Cooperado']\n",
        "\n",
        "# Removendo as linhas com dados irrelevantes na coluna target\n",
        "df_merge = df_merge[~df_merge['situacao_candidato'].isin(lst_situacoes_remover)].copy()\n",
        "df_merge.loc[:, 'aprovado'] = df_merge['situacao_candidato'].isin(lst_situacoes_aprovado).astype(int)\n"
      ]
    },
    {
      "cell_type": "code",
      "execution_count": 50,
      "metadata": {
        "id": "8Bc_TEiFQn39"
      },
      "outputs": [],
      "source": [
        "# Lista das colunas categóricas que você quer transformar\n",
        "colunas_categoricas = [\n",
        "    ##'perfil_vaga.vaga_especifica_para_pcd',\n",
        "    'perfil_vaga.nivel profissional',\n",
        "    'perfil_vaga.nivel_academico',\n",
        "    'perfil_vaga.nivel_ingles',\n",
        "    'perfil_vaga.nivel_espanhol',\n",
        "    #'perfil_vaga.outro_idioma',\n",
        "    ##'informacoes_pessoais.pcd',\n",
        "    ##'informacoes_profissionais.titulo_profissional',\n",
        "    'formacao_e_idiomas.nivel_academico',\n",
        "    'formacao_e_idiomas.nivel_ingles',\n",
        "    'formacao_e_idiomas.nivel_espanhol',\n",
        "    #'formacao_e_idiomas.outro_idioma'\n",
        "]"
      ]
    },
    {
      "cell_type": "code",
      "execution_count": 51,
      "metadata": {
        "id": "uDQr68pfou2o"
      },
      "outputs": [],
      "source": [
        "# Avaliando compatibilidade da fluencia dos idiomas\n",
        "\n",
        "# Dicionário que define a hierarquia dos níveis\n",
        "nivel_idioma_dict = {\n",
        "    'Nenhum': 0,\n",
        "    'Básico': 1,\n",
        "    'Técnico': 2,\n",
        "    'Intermediário': 3,\n",
        "    'Avançado': 4,\n",
        "    'Fluente': 5\n",
        "}\n",
        "\n",
        "# 1. Comparando Inglês\n",
        "df_merge['ingles_compativel'] = df_merge.apply(\n",
        "    comparar_nivel,\n",
        "    axis=1,\n",
        "    args=(nivel_idioma_dict, 'formacao_e_idiomas.nivel_ingles', 'perfil_vaga.nivel_ingles')\n",
        ")\n",
        "\n",
        "# 2. Comparando Espanhol\n",
        "df_merge['espanhol_compativel'] = df_merge.apply(\n",
        "    comparar_nivel,\n",
        "    axis=1,\n",
        "    args=(nivel_idioma_dict, 'formacao_e_idiomas.nivel_espanhol', 'perfil_vaga.nivel_espanhol')\n",
        ")"
      ]
    },
    {
      "cell_type": "code",
      "execution_count": 52,
      "metadata": {
        "id": "kSZcxDmQo_pi"
      },
      "outputs": [],
      "source": [
        "# Avaliando compatibilidade da area de atuacao\n",
        "\n",
        "df_merge['area_compativel'] = df_merge.apply(verificar_compatibilidade_ajustada,\n",
        "                                             axis=1,\n",
        "                                             args=('informacoes_profissionais.area_atuacao', 'perfil_vaga.areas_atuacao'))"
      ]
    },
    {
      "cell_type": "code",
      "execution_count": 53,
      "metadata": {
        "id": "X5hlY7dvpTIr"
      },
      "outputs": [],
      "source": [
        "# Avaliando compatibilidade do estado de residencia / vaga\n",
        "\n",
        "df_merge['estado_compativel'] = df_merge.apply(verificar_compatibilidade_ajustada,\n",
        "                                               axis=1,\n",
        "                                               args=('informacoes_pessoais.endereco', 'perfil_vaga.estado'))"
      ]
    },
    {
      "cell_type": "code",
      "execution_count": 54,
      "metadata": {
        "id": "hEv53GN2p_zL"
      },
      "outputs": [],
      "source": [
        "# Avaliando compatibilidade do nivel academico\n",
        "\n",
        "nivel_academico_dict = {\n",
        "    # Nível Fundamental\n",
        "    'Ensino Fundamental Incompleto': 0,\n",
        "    'Ensino Fundamental Cursando': 1,\n",
        "    'Ensino Fundamental Completo': 2,\n",
        "\n",
        "    # Nível Médio\n",
        "    'Ensino Médio Incompleto': 3,\n",
        "    'Ensino Médio Cursando': 4,\n",
        "    'Ensino Médio Completo': 5,\n",
        "\n",
        "    # Nível Técnico\n",
        "    'Ensino Técnico Incompleto': 6,\n",
        "    'Ensino Técnico Cursando': 7,\n",
        "    'Ensino Técnico Completo': 8,\n",
        "\n",
        "    # Nível Superior (Graduação)\n",
        "    'Ensino Superior Incompleto': 9,\n",
        "    'Ensino Superior Cursando': 10,\n",
        "    'Ensino Superior Completo': 11,\n",
        "\n",
        "    # Pós-Graduação (Especialização)\n",
        "    'Pós Graduação Incompleto': 12,\n",
        "    'Pós Graduação Cursando': 13,\n",
        "    'Pós Graduação Completo': 14,\n",
        "\n",
        "    # Mestrado\n",
        "    'Mestrado Incompleto': 15,\n",
        "    'Mestrado Cursando': 16,\n",
        "    'Mestrado Completo': 17,\n",
        "\n",
        "    # Doutorado\n",
        "    'Doutorado Incompleto': 18,\n",
        "    'Doutorado Cursando': 19,\n",
        "    'Doutorado Completo': 20\n",
        "}\n",
        "\n",
        "df_merge['nivel_academico_compativel'] = df_merge.apply(\n",
        "    comparar_nivel,\n",
        "    axis=1,\n",
        "    args=(nivel_academico_dict, 'formacao_e_idiomas.nivel_academico', 'perfil_vaga.nivel_academico')\n",
        ")"
      ]
    },
    {
      "cell_type": "code",
      "execution_count": 55,
      "metadata": {
        "id": "TiDRSjlsScCk"
      },
      "outputs": [],
      "source": [
        "nivel_profissional_dict = {\n",
        "    # --- Níveis de Entrada e Suporte ---\n",
        "    'Aprendiz': 0,\n",
        "    'Auxiliar': 1,\n",
        "    'Assistente': 2,\n",
        "\n",
        "    # --- Níveis de Carreira Técnica/Especializada ---\n",
        "    'Júnior': 3,\n",
        "    'Analista': 4,\n",
        "    'Pleno': 5,\n",
        "    'Sênior': 6,\n",
        "    'Especialista': 7,\n",
        "\n",
        "    # --- Níveis de Liderança e Gestão ---\n",
        "    'Líder': 8,\n",
        "    'Supervisor': 9,\n",
        "    'Coordenador': 10,\n",
        "    'Gerente': 11\n",
        "}"
      ]
    },
    {
      "cell_type": "code",
      "execution_count": 56,
      "metadata": {
        "id": "BsyZSoBonuuI"
      },
      "outputs": [],
      "source": [
        "df_merge_ordinal = df_merge.copy()\n",
        "\n",
        "# Aplicar o OrdinalEncoder nas colunas desejadas\n",
        "\n",
        "\n",
        "# encoder = OrdinalEncoder()\n",
        "# df_merge_ordinal[colunas_categoricas] = encoder.fit_transform(df_merge_ordinal[colunas_categoricas])\n",
        "\n",
        "\n",
        "\n",
        "colunas_categoricas_idioma = ['formacao_e_idiomas.nivel_ingles', 'perfil_vaga.nivel_ingles', 'formacao_e_idiomas.nivel_espanhol', 'perfil_vaga.nivel_espanhol']\n",
        "for coluna in colunas_categoricas_idioma:\n",
        "    df_merge_ordinal[coluna] = df_merge_ordinal[coluna].map(nivel_idioma_dict)\n",
        "\n",
        "colunas_categoricas_nivel = ['formacao_e_idiomas.nivel_academico', 'perfil_vaga.nivel_academico']\n",
        "for coluna in colunas_categoricas_nivel:\n",
        "  df_merge_ordinal[coluna] = df_merge_ordinal[coluna].map(nivel_academico_dict)\n",
        "\n",
        "df_merge_ordinal['perfil_vaga.nivel profissional'] = df_merge_ordinal['perfil_vaga.nivel profissional'].map(nivel_profissional_dict)"
      ]
    },
    {
      "cell_type": "markdown",
      "metadata": {
        "id": "_Ib7SCm7ozDe"
      },
      "source": [
        "## HEATMAP"
      ]
    },
    {
      "cell_type": "code",
      "execution_count": 57,
      "metadata": {
        "colab": {
          "base_uri": "https://localhost:8080/",
          "height": 794
        },
        "id": "z8SspslEnG7v",
        "outputId": "3f223edb-a7ac-412b-d281-2959bff2bdd7"
      },
      "outputs": [
        {
          "data": {
            "image/png": "[encoded data removed]",
            "text/plain": [
              "<Figure size 1200x600 with 2 Axes>"
            ]
          },
          "metadata": {},
          "output_type": "display_data"
        }
      ],
      "source": [
        "# 1. Calcula a matriz de correlação (numeric_only ignora objetos)\n",
        "corr = df_merge_ordinal.corr(numeric_only=True)\n",
        "\n",
        "# 2. Define o limiar mínimo de correlação\n",
        "limiar = 0.3\n",
        "\n",
        "# 3. Cria uma máscara booleana onde as correlações absolutas são maiores que o limiar (sem a diagonal)\n",
        "mascara = (corr.abs() > limiar) & (corr.abs() < 1.0)\n",
        "\n",
        "# 4. Seleciona as colunas que têm pelo menos uma correlação forte\n",
        "colunas_correlacionadas = mascara.any()[mascara.any()].index\n",
        "\n",
        "# 5. Submatriz com apenas colunas correlacionadas\n",
        "sub_corr = corr.loc[colunas_correlacionadas, colunas_correlacionadas]\n",
        "\n",
        "# 6. Plota o heatmap\n",
        "plt.figure(figsize=(12, 6))\n",
        "sns.heatmap(sub_corr, annot=True, cmap=\"coolwarm\", linewidths=0.5, fmt=\".2f\")\n",
        "plt.title(f'Heatmap de Correlações (>|{limiar}|)')\n",
        "plt.show()"
      ]
    },
    {
      "cell_type": "code",
      "execution_count": 58,
      "metadata": {
        "id": "0YnMqcThBiA9"
      },
      "outputs": [],
      "source": [
        "# colunas escolhidas segundo a matriz de calor do passo anterior\n",
        "colunas_heatmap = ['nivel_academico_compativel',\n",
        "                   'formacao_e_idiomas.nivel_academico',\n",
        "                   'formacao_e_idiomas.nivel_ingles',\n",
        "                   'formacao_e_idiomas.nivel_espanhol',\n",
        "                   'espanhol_compativel',\n",
        "                   'ingles_compativel']"
      ]
    },
    {
      "cell_type": "markdown",
      "metadata": {
        "id": "P7RRj3nXBjsc"
      },
      "source": [
        "## Treinando"
      ]
    },
    {
      "cell_type": "markdown",
      "metadata": {
        "id": "RTTlYHVgn8Rm"
      },
      "source": [
        "### Preparando"
      ]
    },
    {
      "cell_type": "code",
      "execution_count": 59,
      "metadata": {
        "id": "86zwjQMAwFdd"
      },
      "outputs": [],
      "source": [
        "def calcular_distancia(row, coluna_candidato, coluna_vaga):\n",
        "    \"\"\"\n",
        "    Função genérica que compara o nível de proficiência em qualquer idioma.\n",
        "\n",
        "    Argumentos\"\"\"\n",
        "    # Usa os argumentos para pegar os valores das colunas corretas\n",
        "    return row[coluna_candidato] - row[coluna_vaga]\n",
        "\n",
        "df_merge_ordinal['distancia_ingles'] = df_merge_ordinal.apply(calcular_distancia,\n",
        "                                                              axis=1,\n",
        "                                                              args=('formacao_e_idiomas.nivel_ingles', 'perfil_vaga.nivel_ingles'))\n",
        "df_merge_ordinal['distancia_espanhol'] = df_merge_ordinal.apply(calcular_distancia,\n",
        "                                                              axis=1,\n",
        "                                                              args=('formacao_e_idiomas.nivel_espanhol', 'perfil_vaga.nivel_espanhol'))\n",
        "df_merge_ordinal['distancia_nivel_academico'] = df_merge_ordinal.apply(calcular_distancia,\n",
        "                                                              axis=1,\n",
        "                                                              args=('formacao_e_idiomas.nivel_academico', 'perfil_vaga.nivel_academico'))\n"
      ]
    },
    {
      "cell_type": "code",
      "execution_count": 60,
      "metadata": {
        "id": "YUXPC9V9YucZ"
      },
      "outputs": [],
      "source": [
        "df_merge_ordinal['vaga_aceita_CLT'] = df_merge_ordinal['informacoes_basicas.tipo_contratacao'].str.contains('CLT', case=False, na=False).astype(int)\n",
        "df_merge_ordinal['vaga_aceita_PJ'] = df_merge_ordinal['informacoes_basicas.tipo_contratacao'].str.contains('PJ', case=False, na=False).astype(int)\n",
        "df_merge_ordinal['vaga_aceita_Cooperado'] = df_merge_ordinal['informacoes_basicas.tipo_contratacao'].str.contains('Cooperado', case=False, na=False).astype(int)\n",
        "df_merge_ordinal['vaga_aceita_Estagio'] = df_merge_ordinal['informacoes_basicas.tipo_contratacao'].str.contains('Estagiário', case=False, na=False).astype(int)\n",
        "df_merge_ordinal['vaga_eh_Hunting'] = df_merge_ordinal['informacoes_basicas.tipo_contratacao'].str.contains('Hunting', case=False, na=False).astype(int)\n",
        "\n",
        "# Depois de criar as novas colunas, você pode remover as colunas de trabalho\n",
        "df_merge_ordinal = df_merge_ordinal.drop(columns=['informacoes_basicas.tipo_contratacao'])"
      ]
    },
    {
      "cell_type": "code",
      "execution_count": 61,
      "metadata": {
        "id": "O1BhGcvgn_Rs"
      },
      "outputs": [],
      "source": [
        "#colunas_compatibilidade = ['area_compativel', 'ingles_compativel', 'espanhol_compativel', 'estado_compativel', 'nivel_academico_compativel']\n",
        "colunas_compatibilidade = ['area_compativel', 'estado_compativel', 'distancia_ingles', 'distancia_espanhol', 'distancia_nivel_academico']\n",
        "teste = ['formacao_e_idiomas.nivel_academico', 'perfil_vaga.nivel_academico']\n",
        "colunas_tipo_vaga = ['vaga_aceita_CLT', 'vaga_aceita_PJ', 'vaga_aceita_Cooperado', 'vaga_aceita_Estagio', 'vaga_eh_Hunting']\n",
        "colunas_para_treino_2 = colunas_compatibilidade + ['perfil_vaga.nivel profissional'] + teste + colunas_tipo_vaga\n",
        "#colunas_para_treino_2 = colunas_compatibilidade + colunas_categoricas\n",
        "\n",
        "df_resultados = pd.DataFrame(columns=['modelo', 'acuracia', 'f1_score'])"
      ]
    },
    {
      "cell_type": "code",
      "execution_count": 62,
      "metadata": {
        "colab": {
          "base_uri": "https://localhost:8080/",
          "height": 206
        },
        "id": "4fWL9EQPr7Om",
        "outputId": "fd8e9931-42f8-4827-d6a3-ed9eab9e7b00"
      },
      "outputs": [
        {
          "data": {
            "text/html": [
              "<div>\n",
              "<style scoped>\n",
              "    .dataframe tbody tr th:only-of-type {\n",
              "        vertical-align: middle;\n",
              "    }\n",
              "\n",
              "    .dataframe tbody tr th {\n",
              "        vertical-align: top;\n",
              "    }\n",
              "\n",
              "    .dataframe thead th {\n",
              "        text-align: right;\n",
              "    }\n",
              "</style>\n",
              "<table border=\"1\" class=\"dataframe\">\n",
              "  <thead>\n",
              "    <tr style=\"text-align: right;\">\n",
              "      <th></th>\n",
              "      <th>perfil_vaga.nivel profissional</th>\n",
              "      <th>perfil_vaga.nivel_academico</th>\n",
              "      <th>perfil_vaga.nivel_ingles</th>\n",
              "      <th>perfil_vaga.nivel_espanhol</th>\n",
              "      <th>formacao_e_idiomas.nivel_academico</th>\n",
              "      <th>formacao_e_idiomas.nivel_ingles</th>\n",
              "      <th>formacao_e_idiomas.nivel_espanhol</th>\n",
              "    </tr>\n",
              "  </thead>\n",
              "  <tbody>\n",
              "    <tr>\n",
              "      <th>0</th>\n",
              "      <td>5</td>\n",
              "      <td>11</td>\n",
              "      <td>0</td>\n",
              "      <td>0</td>\n",
              "      <td>11</td>\n",
              "      <td>3</td>\n",
              "      <td>1</td>\n",
              "    </tr>\n",
              "    <tr>\n",
              "      <th>1</th>\n",
              "      <td>6</td>\n",
              "      <td>5</td>\n",
              "      <td>0</td>\n",
              "      <td>0</td>\n",
              "      <td>11</td>\n",
              "      <td>4</td>\n",
              "      <td>3</td>\n",
              "    </tr>\n",
              "    <tr>\n",
              "      <th>2</th>\n",
              "      <td>6</td>\n",
              "      <td>5</td>\n",
              "      <td>2</td>\n",
              "      <td>0</td>\n",
              "      <td>11</td>\n",
              "      <td>5</td>\n",
              "      <td>0</td>\n",
              "    </tr>\n",
              "    <tr>\n",
              "      <th>3</th>\n",
              "      <td>6</td>\n",
              "      <td>5</td>\n",
              "      <td>2</td>\n",
              "      <td>0</td>\n",
              "      <td>11</td>\n",
              "      <td>1</td>\n",
              "      <td>0</td>\n",
              "    </tr>\n",
              "    <tr>\n",
              "      <th>4</th>\n",
              "      <td>4</td>\n",
              "      <td>11</td>\n",
              "      <td>1</td>\n",
              "      <td>1</td>\n",
              "      <td>11</td>\n",
              "      <td>3</td>\n",
              "      <td>1</td>\n",
              "    </tr>\n",
              "  </tbody>\n",
              "</table>\n",
              "</div>"
            ],
            "text/plain": [
              "   perfil_vaga.nivel profissional  perfil_vaga.nivel_academico  \\\n",
              "0                               5                           11   \n",
              "1                               6                            5   \n",
              "2                               6                            5   \n",
              "3                               6                            5   \n",
              "4                               4                           11   \n",
              "\n",
              "   perfil_vaga.nivel_ingles  perfil_vaga.nivel_espanhol  \\\n",
              "0                         0                           0   \n",
              "1                         0                           0   \n",
              "2                         2                           0   \n",
              "3                         2                           0   \n",
              "4                         1                           1   \n",
              "\n",
              "   formacao_e_idiomas.nivel_academico  formacao_e_idiomas.nivel_ingles  \\\n",
              "0                                  11                                3   \n",
              "1                                  11                                4   \n",
              "2                                  11                                5   \n",
              "3                                  11                                1   \n",
              "4                                  11                                3   \n",
              "\n",
              "   formacao_e_idiomas.nivel_espanhol  \n",
              "0                                  1  \n",
              "1                                  3  \n",
              "2                                  0  \n",
              "3                                  0  \n",
              "4                                  1  "
            ]
          },
          "execution_count": 62,
          "metadata": {},
          "output_type": "execute_result"
        }
      ],
      "source": [
        "df_merge_ordinal[colunas_categoricas].head()"
      ]
    },
    {
      "cell_type": "code",
      "execution_count": 63,
      "metadata": {
        "colab": {
          "base_uri": "https://localhost:8080/",
          "height": 244
        },
        "id": "CWucnoSTruBM",
        "outputId": "22c971e9-1c3e-4650-f6d0-579a9443753d"
      },
      "outputs": [
        {
          "data": {
            "text/html": [
              "<div>\n",
              "<style scoped>\n",
              "    .dataframe tbody tr th:only-of-type {\n",
              "        vertical-align: middle;\n",
              "    }\n",
              "\n",
              "    .dataframe tbody tr th {\n",
              "        vertical-align: top;\n",
              "    }\n",
              "\n",
              "    .dataframe thead th {\n",
              "        text-align: right;\n",
              "    }\n",
              "</style>\n",
              "<table border=\"1\" class=\"dataframe\">\n",
              "  <thead>\n",
              "    <tr style=\"text-align: right;\">\n",
              "      <th></th>\n",
              "      <th>area_compativel</th>\n",
              "      <th>estado_compativel</th>\n",
              "      <th>distancia_ingles</th>\n",
              "      <th>distancia_espanhol</th>\n",
              "      <th>distancia_nivel_academico</th>\n",
              "      <th>perfil_vaga.nivel profissional</th>\n",
              "      <th>formacao_e_idiomas.nivel_academico</th>\n",
              "      <th>perfil_vaga.nivel_academico</th>\n",
              "      <th>vaga_aceita_CLT</th>\n",
              "      <th>vaga_aceita_PJ</th>\n",
              "      <th>vaga_aceita_Cooperado</th>\n",
              "      <th>vaga_aceita_Estagio</th>\n",
              "      <th>vaga_eh_Hunting</th>\n",
              "    </tr>\n",
              "  </thead>\n",
              "  <tbody>\n",
              "    <tr>\n",
              "      <th>0</th>\n",
              "      <td>0</td>\n",
              "      <td>1</td>\n",
              "      <td>3</td>\n",
              "      <td>1</td>\n",
              "      <td>0</td>\n",
              "      <td>5</td>\n",
              "      <td>11</td>\n",
              "      <td>11</td>\n",
              "      <td>0</td>\n",
              "      <td>1</td>\n",
              "      <td>0</td>\n",
              "      <td>0</td>\n",
              "      <td>0</td>\n",
              "    </tr>\n",
              "    <tr>\n",
              "      <th>1</th>\n",
              "      <td>0</td>\n",
              "      <td>1</td>\n",
              "      <td>4</td>\n",
              "      <td>3</td>\n",
              "      <td>6</td>\n",
              "      <td>6</td>\n",
              "      <td>11</td>\n",
              "      <td>5</td>\n",
              "      <td>0</td>\n",
              "      <td>1</td>\n",
              "      <td>0</td>\n",
              "      <td>0</td>\n",
              "      <td>0</td>\n",
              "    </tr>\n",
              "    <tr>\n",
              "      <th>2</th>\n",
              "      <td>0</td>\n",
              "      <td>0</td>\n",
              "      <td>3</td>\n",
              "      <td>0</td>\n",
              "      <td>6</td>\n",
              "      <td>6</td>\n",
              "      <td>11</td>\n",
              "      <td>5</td>\n",
              "      <td>0</td>\n",
              "      <td>1</td>\n",
              "      <td>0</td>\n",
              "      <td>0</td>\n",
              "      <td>0</td>\n",
              "    </tr>\n",
              "    <tr>\n",
              "      <th>3</th>\n",
              "      <td>0</td>\n",
              "      <td>0</td>\n",
              "      <td>-1</td>\n",
              "      <td>0</td>\n",
              "      <td>6</td>\n",
              "      <td>6</td>\n",
              "      <td>11</td>\n",
              "      <td>5</td>\n",
              "      <td>0</td>\n",
              "      <td>1</td>\n",
              "      <td>0</td>\n",
              "      <td>0</td>\n",
              "      <td>0</td>\n",
              "    </tr>\n",
              "    <tr>\n",
              "      <th>4</th>\n",
              "      <td>1</td>\n",
              "      <td>0</td>\n",
              "      <td>2</td>\n",
              "      <td>0</td>\n",
              "      <td>0</td>\n",
              "      <td>4</td>\n",
              "      <td>11</td>\n",
              "      <td>11</td>\n",
              "      <td>1</td>\n",
              "      <td>1</td>\n",
              "      <td>0</td>\n",
              "      <td>0</td>\n",
              "      <td>0</td>\n",
              "    </tr>\n",
              "  </tbody>\n",
              "</table>\n",
              "</div>"
            ],
            "text/plain": [
              "   area_compativel  estado_compativel  distancia_ingles  distancia_espanhol  \\\n",
              "0                0                  1                 3                   1   \n",
              "1                0                  1                 4                   3   \n",
              "2                0                  0                 3                   0   \n",
              "3                0                  0                -1                   0   \n",
              "4                1                  0                 2                   0   \n",
              "\n",
              "   distancia_nivel_academico  perfil_vaga.nivel profissional  \\\n",
              "0                          0                               5   \n",
              "1                          6                               6   \n",
              "2                          6                               6   \n",
              "3                          6                               6   \n",
              "4                          0                               4   \n",
              "\n",
              "   formacao_e_idiomas.nivel_academico  perfil_vaga.nivel_academico  \\\n",
              "0                                  11                           11   \n",
              "1                                  11                            5   \n",
              "2                                  11                            5   \n",
              "3                                  11                            5   \n",
              "4                                  11                           11   \n",
              "\n",
              "   vaga_aceita_CLT  vaga_aceita_PJ  vaga_aceita_Cooperado  \\\n",
              "0                0               1                      0   \n",
              "1                0               1                      0   \n",
              "2                0               1                      0   \n",
              "3                0               1                      0   \n",
              "4                1               1                      0   \n",
              "\n",
              "   vaga_aceita_Estagio  vaga_eh_Hunting  \n",
              "0                    0                0  \n",
              "1                    0                0  \n",
              "2                    0                0  \n",
              "3                    0                0  \n",
              "4                    0                0  "
            ]
          },
          "execution_count": 63,
          "metadata": {},
          "output_type": "execute_result"
        }
      ],
      "source": [
        "df_merge_ordinal[colunas_para_treino_2].head()"
      ]
    },
    {
      "cell_type": "markdown",
      "metadata": {
        "id": "-nnuV65wBoiM"
      },
      "source": [
        "### Modelos"
      ]
    },
    {
      "cell_type": "code",
      "execution_count": 64,
      "metadata": {
        "colab": {
          "base_uri": "https://localhost:8080/"
        },
        "id": "mQGVwL9OBlDr",
        "outputId": "e2749af3-b067-4993-facb-284e9b719e2b"
      },
      "outputs": [
        {
          "name": "stdout",
          "output_type": "stream",
          "text": [
            "\n",
            "\n",
            "compilado:\n",
            "                                   modelo  acuracia  f1_score\n",
            "5              XGBOOST - compatibilidade  0.568011  0.579228\n",
            "11                 KNN - compatibilidade  0.559809  0.548387\n",
            "2         RandomForest - compatibilidade  0.557758  0.564896\n",
            "4                      XGBOOST - análise  0.555707  0.553571\n",
            "10                         KNN - análise  0.551606  0.536723\n",
            "3                      XGBOOST - heatmap  0.550923  0.585489\n",
            "8   LogisticRegression - compatibilidade  0.550923  0.506386\n",
            "1                 RandomForest - análise  0.549556  0.571800\n",
            "6           LogisticRegression - heatmap  0.548189  0.623362\n",
            "7           LogisticRegression - análise  0.546822  0.572534\n",
            "0                 RandomForest - heatmap  0.545455  0.573991\n",
            "9                          KNN - heatmap  0.524265  0.467075\n"
          ]
        }
      ],
      "source": [
        "# RANDOM FOREST\n",
        "df_resultados = treinar_random_forest(df_merge_ordinal, colunas_heatmap, 'aprovado', '- heatmap', df_resultados)\n",
        "df_resultados = treinar_random_forest(df_merge_ordinal, colunas_categoricas, 'aprovado', '- análise', df_resultados)\n",
        "df_resultados = treinar_random_forest(df_merge_ordinal, colunas_para_treino_2, 'aprovado', '- compatibilidade', df_resultados)\n",
        "\n",
        "# XGBOOST\n",
        "df_resultados = treinar_xgboost(df_merge_ordinal, colunas_heatmap, 'aprovado', '- heatmap', df_resultados)\n",
        "df_resultados = treinar_xgboost(df_merge_ordinal, colunas_categoricas, 'aprovado', '- análise', df_resultados)\n",
        "df_resultados = treinar_xgboost(df_merge_ordinal, colunas_para_treino_2, 'aprovado', '- compatibilidade', df_resultados)\n",
        "\n",
        "# LOGISTIC REGRESSION\n",
        "df_resultados = treinar_log_regression(df_merge_ordinal, colunas_heatmap, 'aprovado', '- heatmap', df_resultados)\n",
        "df_resultados = treinar_log_regression(df_merge_ordinal, colunas_categoricas, 'aprovado', '- análise', df_resultados)\n",
        "df_resultados = treinar_log_regression(df_merge_ordinal, colunas_para_treino_2, 'aprovado', '- compatibilidade', df_resultados)\n",
        "\n",
        "# KNN\n",
        "df_resultados = treinar_knn(df_merge_ordinal, colunas_heatmap, 'aprovado', '- heatmap', df_resultados)\n",
        "df_resultados = treinar_knn(df_merge_ordinal, colunas_categoricas, 'aprovado', '- análise', df_resultados)\n",
        "df_resultados = treinar_knn(df_merge_ordinal, colunas_para_treino_2, 'aprovado', '- compatibilidade', df_resultados)\n",
        "\n",
        "# COMPARATIVO\n",
        "print('\\n\\ncompilado:\\n', df_resultados.sort_values(by='acuracia', ascending=False))\n"
      ]
    },
    {
      "cell_type": "markdown",
      "metadata": {
        "id": "HCUAIEeXCVFj"
      },
      "source": [
        "# novos testes"
      ]
    },
    {
      "cell_type": "markdown",
      "metadata": {
        "id": "kfRbfuVGbR1e"
      },
      "source": [
        "## GridSearchCV"
      ]
    },
    {
      "cell_type": "code",
      "execution_count": 65,
      "metadata": {
        "id": "3bBrjiPrbOLC"
      },
      "outputs": [],
      "source": [
        "import pandas as pd\n",
        "from sklearn.model_selection import train_test_split, GridSearchCV\n",
        "from xgboost import XGBClassifier"
      ]
    },
    {
      "cell_type": "code",
      "execution_count": 66,
      "metadata": {
        "id": "mN8b5fWnbbaE"
      },
      "outputs": [],
      "source": [
        "# Dicionário com os parâmetros e os valores a serem testados\n",
        "param_grid = {\n",
        "    'n_estimators': [100, 200, 300],          # Número de \"árvores\" no modelo\n",
        "    'max_depth': [3, 4, 5],                   # Profundidade máxima de cada árvore\n",
        "    'learning_rate': [0.01, 0.1, 0.2],        # Taxa de aprendizado\n",
        "    'subsample': [0.8, 1.0]                   # Fração de amostras usadas para treinar cada árvore\n",
        "}\n",
        "# Total de combinações a serem testadas: 3 * 3 * 3 * 2 = 54 combinações"
      ]
    },
    {
      "cell_type": "code",
      "execution_count": 67,
      "metadata": {
        "id": "V6xbuJPBbrCD"
      },
      "outputs": [],
      "source": [
        "# Crie uma instância do modelo\n",
        "xgb = XGBClassifier(use_label_encoder=False, eval_metric='logloss')\n",
        "\n",
        "# Crie a instância do GridSearchCV\n",
        "grid_search = GridSearchCV(\n",
        "    estimator=xgb,\n",
        "    param_grid=param_grid,\n",
        "    scoring='accuracy',\n",
        "    cv=5,\n",
        "    n_jobs=-1,\n",
        "    verbose=2\n",
        ")"
      ]
    },
    {
      "cell_type": "code",
      "execution_count": 68,
      "metadata": {
        "id": "gh7wcBVYb6Jq"
      },
      "outputs": [],
      "source": [
        "X_train, X_test, y_train, y_test = separar_treino_teste(df_merge_ordinal, colunas_para_treino_2, 'aprovado')"
      ]
    },
    {
      "cell_type": "code",
      "execution_count": 69,
      "metadata": {
        "colab": {
          "base_uri": "https://localhost:8080/",
          "height": 253
        },
        "id": "5UqStGCGbwq_",
        "outputId": "d8e345fb-2800-42a6-9ee4-4915b9e22d11"
      },
      "outputs": [
        {
          "name": "stdout",
          "output_type": "stream",
          "text": [
            "Fitting 5 folds for each of 54 candidates, totalling 270 fits\n"
          ]
        },
        {
          "name": "stderr",
          "output_type": "stream",
          "text": [
            "g:\\Fontes\\fiap-challenge-5\\fiap5\\Lib\\site-packages\\xgboost\\training.py:183: UserWarning: [20:45:26] WARNING: C:\\actions-runner\\_work\\xgboost\\xgboost\\src\\learner.cc:738: \n",
            "Parameters: { \"use_label_encoder\" } are not used.\n",
            "\n",
            "  bst.update(dtrain, iteration=i, fobj=obj)\n"
          ]
        },
        {
          "data": {
            "text/html": [
              "<style>#sk-container-id-1 {\n",
              "  /* Definition of color scheme common for light and dark mode */\n",
              "  --sklearn-color-text: black;\n",
              "  --sklearn-color-line: gray;\n",
              "  /* Definition of color scheme for unfitted estimators */\n",
              "  --sklearn-color-unfitted-level-0: #fff5e6;\n",
              "  --sklearn-color-unfitted-level-1: #f6e4d2;\n",
              "  --sklearn-color-unfitted-level-2: #ffe0b3;\n",
              "  --sklearn-color-unfitted-level-3: chocolate;\n",
              "  /* Definition of color scheme for fitted estimators */\n",
              "  --sklearn-color-fitted-level-0: #f0f8ff;\n",
              "  --sklearn-color-fitted-level-1: #d4ebff;\n",
              "  --sklearn-color-fitted-level-2: #b3dbfd;\n",
              "  --sklearn-color-fitted-level-3: cornflowerblue;\n",
              "\n",
              "  /* Specific color for light theme */\n",
              "  --sklearn-color-text-on-default-background: var(--sg-text-color, var(--theme-code-foreground, var(--jp-content-font-color1, black)));\n",
              "  --sklearn-color-background: var(--sg-background-color, var(--theme-background, var(--jp-layout-color0, white)));\n",
              "  --sklearn-color-border-box: var(--sg-text-color, var(--theme-code-foreground, var(--jp-content-font-color1, black)));\n",
              "  --sklearn-color-icon: #696969;\n",
              "\n",
              "  @media (prefers-color-scheme: dark) {\n",
              "    /* Redefinition of color scheme for dark theme */\n",
              "    --sklearn-color-text-on-default-background: var(--sg-text-color, var(--theme-code-foreground, var(--jp-content-font-color1, white)));\n",
              "    --sklearn-color-background: var(--sg-background-color, var(--theme-background, var(--jp-layout-color0, #111)));\n",
              "    --sklearn-color-border-box: var(--sg-text-color, var(--theme-code-foreground, var(--jp-content-font-color1, white)));\n",
              "    --sklearn-color-icon: #878787;\n",
              "  }\n",
              "}\n",
              "\n",
              "#sk-container-id-1 {\n",
              "  color: var(--sklearn-color-text);\n",
              "}\n",
              "\n",
              "#sk-container-id-1 pre {\n",
              "  padding: 0;\n",
              "}\n",
              "\n",
              "#sk-container-id-1 input.sk-hidden--visually {\n",
              "  border: 0;\n",
              "  clip: rect(1px 1px 1px 1px);\n",
              "  clip: rect(1px, 1px, 1px, 1px);\n",
              "  height: 1px;\n",
              "  margin: -1px;\n",
              "  overflow: hidden;\n",
              "  padding: 0;\n",
              "  position: absolute;\n",
              "  width: 1px;\n",
              "}\n",
              "\n",
              "#sk-container-id-1 div.sk-dashed-wrapped {\n",
              "  border: 1px dashed var(--sklearn-color-line);\n",
              "  margin: 0 0.4em 0.5em 0.4em;\n",
              "  box-sizing: border-box;\n",
              "  padding-bottom: 0.4em;\n",
              "  background-color: var(--sklearn-color-background);\n",
              "}\n",
              "\n",
              "#sk-container-id-1 div.sk-container {\n",
              "  /* jupyter's `normalize.less` sets `[hidden] { display: none; }`\n",
              "     but bootstrap.min.css set `[hidden] { display: none !important; }`\n",
              "     so we also need the `!important` here to be able to override the\n",
              "     default hidden behavior on the sphinx rendered scikit-learn.org.\n",
              "     See: https://github.com/scikit-learn/scikit-learn/issues/21755 */\n",
              "  display: inline-block !important;\n",
              "  position: relative;\n",
              "}\n",
              "\n",
              "#sk-container-id-1 div.sk-text-repr-fallback {\n",
              "  display: none;\n",
              "}\n",
              "\n",
              "div.sk-parallel-item,\n",
              "div.sk-serial,\n",
              "div.sk-item {\n",
              "  /* draw centered vertical line to link estimators */\n",
              "  background-image: linear-gradient(var(--sklearn-color-text-on-default-background), var(--sklearn-color-text-on-default-background));\n",
              "  background-size: 2px 100%;\n",
              "  background-repeat: no-repeat;\n",
              "  background-position: center center;\n",
              "}\n",
              "\n",
              "/* Parallel-specific style estimator block */\n",
              "\n",
              "#sk-container-id-1 div.sk-parallel-item::after {\n",
              "  content: \"\";\n",
              "  width: 100%;\n",
              "  border-bottom: 2px solid var(--sklearn-color-text-on-default-background);\n",
              "  flex-grow: 1;\n",
              "}\n",
              "\n",
              "#sk-container-id-1 div.sk-parallel {\n",
              "  display: flex;\n",
              "  align-items: stretch;\n",
              "  justify-content: center;\n",
              "  background-color: var(--sklearn-color-background);\n",
              "  position: relative;\n",
              "}\n",
              "\n",
              "#sk-container-id-1 div.sk-parallel-item {\n",
              "  display: flex;\n",
              "  flex-direction: column;\n",
              "}\n",
              "\n",
              "#sk-container-id-1 div.sk-parallel-item:first-child::after {\n",
              "  align-self: flex-end;\n",
              "  width: 50%;\n",
              "}\n",
              "\n",
              "#sk-container-id-1 div.sk-parallel-item:last-child::after {\n",
              "  align-self: flex-start;\n",
              "  width: 50%;\n",
              "}\n",
              "\n",
              "#sk-container-id-1 div.sk-parallel-item:only-child::after {\n",
              "  width: 0;\n",
              "}\n",
              "\n",
              "/* Serial-specific style estimator block */\n",
              "\n",
              "#sk-container-id-1 div.sk-serial {\n",
              "  display: flex;\n",
              "  flex-direction: column;\n",
              "  align-items: center;\n",
              "  background-color: var(--sklearn-color-background);\n",
              "  padding-right: 1em;\n",
              "  padding-left: 1em;\n",
              "}\n",
              "\n",
              "\n",
              "/* Toggleable style: style used for estimator/Pipeline/ColumnTransformer box that is\n",
              "clickable and can be expanded/collapsed.\n",
              "- Pipeline and ColumnTransformer use this feature and define the default style\n",
              "- Estimators will overwrite some part of the style using the `sk-estimator` class\n",
              "*/\n",
              "\n",
              "/* Pipeline and ColumnTransformer style (default) */\n",
              "\n",
              "#sk-container-id-1 div.sk-toggleable {\n",
              "  /* Default theme specific background. It is overwritten whether we have a\n",
              "  specific estimator or a Pipeline/ColumnTransformer */\n",
              "  background-color: var(--sklearn-color-background);\n",
              "}\n",
              "\n",
              "/* Toggleable label */\n",
              "#sk-container-id-1 label.sk-toggleable__label {\n",
              "  cursor: pointer;\n",
              "  display: block;\n",
              "  width: 100%;\n",
              "  margin-bottom: 0;\n",
              "  padding: 0.5em;\n",
              "  box-sizing: border-box;\n",
              "  text-align: center;\n",
              "}\n",
              "\n",
              "#sk-container-id-1 label.sk-toggleable__label-arrow:before {\n",
              "  /* Arrow on the left of the label */\n",
              "  content: \"▸\";\n",
              "  float: left;\n",
              "  margin-right: 0.25em;\n",
              "  color: var(--sklearn-color-icon);\n",
              "}\n",
              "\n",
              "#sk-container-id-1 label.sk-toggleable__label-arrow:hover:before {\n",
              "  color: var(--sklearn-color-text);\n",
              "}\n",
              "\n",
              "/* Toggleable content - dropdown */\n",
              "\n",
              "#sk-container-id-1 div.sk-toggleable__content {\n",
              "  max-height: 0;\n",
              "  max-width: 0;\n",
              "  overflow: hidden;\n",
              "  text-align: left;\n",
              "  /* unfitted */\n",
              "  background-color: var(--sklearn-color-unfitted-level-0);\n",
              "}\n",
              "\n",
              "#sk-container-id-1 div.sk-toggleable__content.fitted {\n",
              "  /* fitted */\n",
              "  background-color: var(--sklearn-color-fitted-level-0);\n",
              "}\n",
              "\n",
              "#sk-container-id-1 div.sk-toggleable__content pre {\n",
              "  margin: 0.2em;\n",
              "  border-radius: 0.25em;\n",
              "  color: var(--sklearn-color-text);\n",
              "  /* unfitted */\n",
              "  background-color: var(--sklearn-color-unfitted-level-0);\n",
              "}\n",
              "\n",
              "#sk-container-id-1 div.sk-toggleable__content.fitted pre {\n",
              "  /* unfitted */\n",
              "  background-color: var(--sklearn-color-fitted-level-0);\n",
              "}\n",
              "\n",
              "#sk-container-id-1 input.sk-toggleable__control:checked~div.sk-toggleable__content {\n",
              "  /* Expand drop-down */\n",
              "  max-height: 200px;\n",
              "  max-width: 100%;\n",
              "  overflow: auto;\n",
              "}\n",
              "\n",
              "#sk-container-id-1 input.sk-toggleable__control:checked~label.sk-toggleable__label-arrow:before {\n",
              "  content: \"▾\";\n",
              "}\n",
              "\n",
              "/* Pipeline/ColumnTransformer-specific style */\n",
              "\n",
              "#sk-container-id-1 div.sk-label input.sk-toggleable__control:checked~label.sk-toggleable__label {\n",
              "  color: var(--sklearn-color-text);\n",
              "  background-color: var(--sklearn-color-unfitted-level-2);\n",
              "}\n",
              "\n",
              "#sk-container-id-1 div.sk-label.fitted input.sk-toggleable__control:checked~label.sk-toggleable__label {\n",
              "  background-color: var(--sklearn-color-fitted-level-2);\n",
              "}\n",
              "\n",
              "/* Estimator-specific style */\n",
              "\n",
              "/* Colorize estimator box */\n",
              "#sk-container-id-1 div.sk-estimator input.sk-toggleable__control:checked~label.sk-toggleable__label {\n",
              "  /* unfitted */\n",
              "  background-color: var(--sklearn-color-unfitted-level-2);\n",
              "}\n",
              "\n",
              "#sk-container-id-1 div.sk-estimator.fitted input.sk-toggleable__control:checked~label.sk-toggleable__label {\n",
              "  /* fitted */\n",
              "  background-color: var(--sklearn-color-fitted-level-2);\n",
              "}\n",
              "\n",
              "#sk-container-id-1 div.sk-label label.sk-toggleable__label,\n",
              "#sk-container-id-1 div.sk-label label {\n",
              "  /* The background is the default theme color */\n",
              "  color: var(--sklearn-color-text-on-default-background);\n",
              "}\n",
              "\n",
              "/* On hover, darken the color of the background */\n",
              "#sk-container-id-1 div.sk-label:hover label.sk-toggleable__label {\n",
              "  color: var(--sklearn-color-text);\n",
              "  background-color: var(--sklearn-color-unfitted-level-2);\n",
              "}\n",
              "\n",
              "/* Label box, darken color on hover, fitted */\n",
              "#sk-container-id-1 div.sk-label.fitted:hover label.sk-toggleable__label.fitted {\n",
              "  color: var(--sklearn-color-text);\n",
              "  background-color: var(--sklearn-color-fitted-level-2);\n",
              "}\n",
              "\n",
              "/* Estimator label */\n",
              "\n",
              "#sk-container-id-1 div.sk-label label {\n",
              "  font-family: monospace;\n",
              "  font-weight: bold;\n",
              "  display: inline-block;\n",
              "  line-height: 1.2em;\n",
              "}\n",
              "\n",
              "#sk-container-id-1 div.sk-label-container {\n",
              "  text-align: center;\n",
              "}\n",
              "\n",
              "/* Estimator-specific */\n",
              "#sk-container-id-1 div.sk-estimator {\n",
              "  font-family: monospace;\n",
              "  border: 1px dotted var(--sklearn-color-border-box);\n",
              "  border-radius: 0.25em;\n",
              "  box-sizing: border-box;\n",
              "  margin-bottom: 0.5em;\n",
              "  /* unfitted */\n",
              "  background-color: var(--sklearn-color-unfitted-level-0);\n",
              "}\n",
              "\n",
              "#sk-container-id-1 div.sk-estimator.fitted {\n",
              "  /* fitted */\n",
              "  background-color: var(--sklearn-color-fitted-level-0);\n",
              "}\n",
              "\n",
              "/* on hover */\n",
              "#sk-container-id-1 div.sk-estimator:hover {\n",
              "  /* unfitted */\n",
              "  background-color: var(--sklearn-color-unfitted-level-2);\n",
              "}\n",
              "\n",
              "#sk-container-id-1 div.sk-estimator.fitted:hover {\n",
              "  /* fitted */\n",
              "  background-color: var(--sklearn-color-fitted-level-2);\n",
              "}\n",
              "\n",
              "/* Specification for estimator info (e.g. \"i\" and \"?\") */\n",
              "\n",
              "/* Common style for \"i\" and \"?\" */\n",
              "\n",
              ".sk-estimator-doc-link,\n",
              "a:link.sk-estimator-doc-link,\n",
              "a:visited.sk-estimator-doc-link {\n",
              "  float: right;\n",
              "  font-size: smaller;\n",
              "  line-height: 1em;\n",
              "  font-family: monospace;\n",
              "  background-color: var(--sklearn-color-background);\n",
              "  border-radius: 1em;\n",
              "  height: 1em;\n",
              "  width: 1em;\n",
              "  text-decoration: none !important;\n",
              "  margin-left: 1ex;\n",
              "  /* unfitted */\n",
              "  border: var(--sklearn-color-unfitted-level-1) 1pt solid;\n",
              "  color: var(--sklearn-color-unfitted-level-1);\n",
              "}\n",
              "\n",
              ".sk-estimator-doc-link.fitted,\n",
              "a:link.sk-estimator-doc-link.fitted,\n",
              "a:visited.sk-estimator-doc-link.fitted {\n",
              "  /* fitted */\n",
              "  border: var(--sklearn-color-fitted-level-1) 1pt solid;\n",
              "  color: var(--sklearn-color-fitted-level-1);\n",
              "}\n",
              "\n",
              "/* On hover */\n",
              "div.sk-estimator:hover .sk-estimator-doc-link:hover,\n",
              ".sk-estimator-doc-link:hover,\n",
              "div.sk-label-container:hover .sk-estimator-doc-link:hover,\n",
              ".sk-estimator-doc-link:hover {\n",
              "  /* unfitted */\n",
              "  background-color: var(--sklearn-color-unfitted-level-3);\n",
              "  color: var(--sklearn-color-background);\n",
              "  text-decoration: none;\n",
              "}\n",
              "\n",
              "div.sk-estimator.fitted:hover .sk-estimator-doc-link.fitted:hover,\n",
              ".sk-estimator-doc-link.fitted:hover,\n",
              "div.sk-label-container:hover .sk-estimator-doc-link.fitted:hover,\n",
              ".sk-estimator-doc-link.fitted:hover {\n",
              "  /* fitted */\n",
              "  background-color: var(--sklearn-color-fitted-level-3);\n",
              "  color: var(--sklearn-color-background);\n",
              "  text-decoration: none;\n",
              "}\n",
              "\n",
              "/* Span, style for the box shown on hovering the info icon */\n",
              ".sk-estimator-doc-link span {\n",
              "  display: none;\n",
              "  z-index: 9999;\n",
              "  position: relative;\n",
              "  font-weight: normal;\n",
              "  right: .2ex;\n",
              "  padding: .5ex;\n",
              "  margin: .5ex;\n",
              "  width: min-content;\n",
              "  min-width: 20ex;\n",
              "  max-width: 50ex;\n",
              "  color: var(--sklearn-color-text);\n",
              "  box-shadow: 2pt 2pt 4pt #999;\n",
              "  /* unfitted */\n",
              "  background: var(--sklearn-color-unfitted-level-0);\n",
              "  border: .5pt solid var(--sklearn-color-unfitted-level-3);\n",
              "}\n",
              "\n",
              ".sk-estimator-doc-link.fitted span {\n",
              "  /* fitted */\n",
              "  background: var(--sklearn-color-fitted-level-0);\n",
              "  border: var(--sklearn-color-fitted-level-3);\n",
              "}\n",
              "\n",
              ".sk-estimator-doc-link:hover span {\n",
              "  display: block;\n",
              "}\n",
              "\n",
              "/* \"?\"-specific style due to the `<a>` HTML tag */\n",
              "\n",
              "#sk-container-id-1 a.estimator_doc_link {\n",
              "  float: right;\n",
              "  font-size: 1rem;\n",
              "  line-height: 1em;\n",
              "  font-family: monospace;\n",
              "  background-color: var(--sklearn-color-background);\n",
              "  border-radius: 1rem;\n",
              "  height: 1rem;\n",
              "  width: 1rem;\n",
              "  text-decoration: none;\n",
              "  /* unfitted */\n",
              "  color: var(--sklearn-color-unfitted-level-1);\n",
              "  border: var(--sklearn-color-unfitted-level-1) 1pt solid;\n",
              "}\n",
              "\n",
              "#sk-container-id-1 a.estimator_doc_link.fitted {\n",
              "  /* fitted */\n",
              "  border: var(--sklearn-color-fitted-level-1) 1pt solid;\n",
              "  color: var(--sklearn-color-fitted-level-1);\n",
              "}\n",
              "\n",
              "/* On hover */\n",
              "#sk-container-id-1 a.estimator_doc_link:hover {\n",
              "  /* unfitted */\n",
              "  background-color: var(--sklearn-color-unfitted-level-3);\n",
              "  color: var(--sklearn-color-background);\n",
              "  text-decoration: none;\n",
              "}\n",
              "\n",
              "#sk-container-id-1 a.estimator_doc_link.fitted:hover {\n",
              "  /* fitted */\n",
              "  background-color: var(--sklearn-color-fitted-level-3);\n",
              "}\n",
              "</style><div id=\"sk-container-id-1\" class=\"sk-top-container\"><div class=\"sk-text-repr-fallback\"><pre>GridSearchCV(cv=5,\n",
              "             estimator=XGBClassifier(base_score=None, booster=None,\n",
              "                                     callbacks=None, colsample_bylevel=None,\n",
              "                                     colsample_bynode=None,\n",
              "                                     colsample_bytree=None, device=None,\n",
              "                                     early_stopping_rounds=None,\n",
              "                                     enable_categorical=False,\n",
              "                                     eval_metric=&#x27;logloss&#x27;, feature_types=None,\n",
              "                                     feature_weights=None, gamma=None,\n",
              "                                     grow_policy=None, importance_type=None,\n",
              "                                     interaction_constraint...\n",
              "                                     max_cat_to_onehot=None,\n",
              "                                     max_delta_step=None, max_depth=None,\n",
              "                                     max_leaves=None, min_child_weight=None,\n",
              "                                     missing=nan, monotone_constraints=None,\n",
              "                                     multi_strategy=None, n_estimators=None,\n",
              "                                     n_jobs=None, num_parallel_tree=None, ...),\n",
              "             n_jobs=-1,\n",
              "             param_grid={&#x27;learning_rate&#x27;: [0.01, 0.1, 0.2],\n",
              "                         &#x27;max_depth&#x27;: [3, 4, 5],\n",
              "                         &#x27;n_estimators&#x27;: [100, 200, 300],\n",
              "                         &#x27;subsample&#x27;: [0.8, 1.0]},\n",
              "             scoring=&#x27;accuracy&#x27;, verbose=2)</pre><b>In a Jupyter environment, please rerun this cell to show the HTML representation or trust the notebook. <br />On GitHub, the HTML representation is unable to render, please try loading this page with nbviewer.org.</b></div><div class=\"sk-container\" hidden><div class=\"sk-item sk-dashed-wrapped\"><div class=\"sk-label-container\"><div class=\"sk-label fitted sk-toggleable\"><input class=\"sk-toggleable__control sk-hidden--visually\" id=\"sk-estimator-id-1\" type=\"checkbox\" ><label for=\"sk-estimator-id-1\" class=\"sk-toggleable__label fitted sk-toggleable__label-arrow fitted\">&nbsp;&nbsp;GridSearchCV<a class=\"sk-estimator-doc-link fitted\" rel=\"noreferrer\" target=\"_blank\" href=\"https://scikit-learn.org/1.5/modules/generated/sklearn.model_selection.GridSearchCV.html\">?<span>Documentation for GridSearchCV</span></a><span class=\"sk-estimator-doc-link fitted\">i<span>Fitted</span></span></label><div class=\"sk-toggleable__content fitted\"><pre>GridSearchCV(cv=5,\n",
              "             estimator=XGBClassifier(base_score=None, booster=None,\n",
              "                                     callbacks=None, colsample_bylevel=None,\n",
              "                                     colsample_bynode=None,\n",
              "                                     colsample_bytree=None, device=None,\n",
              "                                     early_stopping_rounds=None,\n",
              "                                     enable_categorical=False,\n",
              "                                     eval_metric=&#x27;logloss&#x27;, feature_types=None,\n",
              "                                     feature_weights=None, gamma=None,\n",
              "                                     grow_policy=None, importance_type=None,\n",
              "                                     interaction_constraint...\n",
              "                                     max_cat_to_onehot=None,\n",
              "                                     max_delta_step=None, max_depth=None,\n",
              "                                     max_leaves=None, min_child_weight=None,\n",
              "                                     missing=nan, monotone_constraints=None,\n",
              "                                     multi_strategy=None, n_estimators=None,\n",
              "                                     n_jobs=None, num_parallel_tree=None, ...),\n",
              "             n_jobs=-1,\n",
              "             param_grid={&#x27;learning_rate&#x27;: [0.01, 0.1, 0.2],\n",
              "                         &#x27;max_depth&#x27;: [3, 4, 5],\n",
              "                         &#x27;n_estimators&#x27;: [100, 200, 300],\n",
              "                         &#x27;subsample&#x27;: [0.8, 1.0]},\n",
              "             scoring=&#x27;accuracy&#x27;, verbose=2)</pre></div> </div></div><div class=\"sk-parallel\"><div class=\"sk-parallel-item\"><div class=\"sk-item\"><div class=\"sk-label-container\"><div class=\"sk-label fitted sk-toggleable\"><input class=\"sk-toggleable__control sk-hidden--visually\" id=\"sk-estimator-id-2\" type=\"checkbox\" ><label for=\"sk-estimator-id-2\" class=\"sk-toggleable__label fitted sk-toggleable__label-arrow fitted\">best_estimator_: XGBClassifier</label><div class=\"sk-toggleable__content fitted\"><pre>XGBClassifier(base_score=None, booster=None, callbacks=None,\n",
              "              colsample_bylevel=None, colsample_bynode=None,\n",
              "              colsample_bytree=None, device=None, early_stopping_rounds=None,\n",
              "              enable_categorical=False, eval_metric=&#x27;logloss&#x27;,\n",
              "              feature_types=None, feature_weights=None, gamma=None,\n",
              "              grow_policy=None, importance_type=None,\n",
              "              interaction_constraints=None, learning_rate=0.1, max_bin=None,\n",
              "              max_cat_threshold=None, max_cat_to_onehot=None,\n",
              "              max_delta_step=None, max_depth=3, max_leaves=None,\n",
              "              min_child_weight=None, missing=nan, monotone_constraints=None,\n",
              "              multi_strategy=None, n_estimators=100, n_jobs=None,\n",
              "              num_parallel_tree=None, ...)</pre></div> </div></div><div class=\"sk-serial\"><div class=\"sk-item\"><div class=\"sk-estimator fitted sk-toggleable\"><input class=\"sk-toggleable__control sk-hidden--visually\" id=\"sk-estimator-id-3\" type=\"checkbox\" ><label for=\"sk-estimator-id-3\" class=\"sk-toggleable__label fitted sk-toggleable__label-arrow fitted\">&nbsp;XGBClassifier<a class=\"sk-estimator-doc-link fitted\" rel=\"noreferrer\" target=\"_blank\" href=\"https://xgboost.readthedocs.io/en/release_3.0.0/python/python_api.html#xgboost.XGBClassifier\">?<span>Documentation for XGBClassifier</span></a></label><div class=\"sk-toggleable__content fitted\"><pre>XGBClassifier(base_score=None, booster=None, callbacks=None,\n",
              "              colsample_bylevel=None, colsample_bynode=None,\n",
              "              colsample_bytree=None, device=None, early_stopping_rounds=None,\n",
              "              enable_categorical=False, eval_metric=&#x27;logloss&#x27;,\n",
              "              feature_types=None, feature_weights=None, gamma=None,\n",
              "              grow_policy=None, importance_type=None,\n",
              "              interaction_constraints=None, learning_rate=0.1, max_bin=None,\n",
              "              max_cat_threshold=None, max_cat_to_onehot=None,\n",
              "              max_delta_step=None, max_depth=3, max_leaves=None,\n",
              "              min_child_weight=None, missing=nan, monotone_constraints=None,\n",
              "              multi_strategy=None, n_estimators=100, n_jobs=None,\n",
              "              num_parallel_tree=None, ...)</pre></div> </div></div></div></div></div></div></div></div></div>"
            ],
            "text/plain": [
              "GridSearchCV(cv=5,\n",
              "             estimator=XGBClassifier(base_score=None, booster=None,\n",
              "                                     callbacks=None, colsample_bylevel=None,\n",
              "                                     colsample_bynode=None,\n",
              "                                     colsample_bytree=None, device=None,\n",
              "                                     early_stopping_rounds=None,\n",
              "                                     enable_categorical=False,\n",
              "                                     eval_metric='logloss', feature_types=None,\n",
              "                                     feature_weights=None, gamma=None,\n",
              "                                     grow_policy=None, importance_type=None,\n",
              "                                     interaction_constraint...\n",
              "                                     max_cat_to_onehot=None,\n",
              "                                     max_delta_step=None, max_depth=None,\n",
              "                                     max_leaves=None, min_child_weight=None,\n",
              "                                     missing=nan, monotone_constraints=None,\n",
              "                                     multi_strategy=None, n_estimators=None,\n",
              "                                     n_jobs=None, num_parallel_tree=None, ...),\n",
              "             n_jobs=-1,\n",
              "             param_grid={'learning_rate': [0.01, 0.1, 0.2],\n",
              "                         'max_depth': [3, 4, 5],\n",
              "                         'n_estimators': [100, 200, 300],\n",
              "                         'subsample': [0.8, 1.0]},\n",
              "             scoring='accuracy', verbose=2)"
            ]
          },
          "execution_count": 69,
          "metadata": {},
          "output_type": "execute_result"
        }
      ],
      "source": [
        "# Executa a busca em grade. Isso vai testar as 54 combinações, 5 vezes cada (270 treinos)\n",
        "grid_search.fit(X_train, y_train)"
      ]
    },
    {
      "cell_type": "code",
      "execution_count": 70,
      "metadata": {
        "colab": {
          "base_uri": "https://localhost:8080/"
        },
        "id": "ckQyioamcHwX",
        "outputId": "744198d4-0c5c-4d69-c709-6a3cbea471f7"
      },
      "outputs": [
        {
          "name": "stdout",
          "output_type": "stream",
          "text": [
            "Melhores parâmetros encontrados:  {'learning_rate': 0.1, 'max_depth': 3, 'n_estimators': 100, 'subsample': 0.8}\n",
            "Melhor acurácia no cross-validation:  0.5810256410256411\n",
            "Acurácia no conjunto de teste:  0.5782638414217361\n"
          ]
        }
      ],
      "source": [
        "# 1. Ver os melhores parâmetros encontrados\n",
        "print(\"Melhores parâmetros encontrados: \", grid_search.best_params_)\n",
        "\n",
        "# 2. Ver a melhor performance (acurácia) durante a validação cruzada\n",
        "print(\"Melhor acurácia no cross-validation: \", grid_search.best_score_)\n",
        "\n",
        "# 3. Usar o melhor modelo encontrado para fazer previsões\n",
        "# O 'best_estimator_' é um modelo XGBoost já treinado com os melhores parâmetros\n",
        "best_model = grid_search.best_estimator_\n",
        "predictions = best_model.predict(X_test)\n",
        "\n",
        "# Agora você pode calcular a acurácia final no conjunto de teste\n",
        "from sklearn.metrics import accuracy_score\n",
        "print(\"Acurácia no conjunto de teste: \", accuracy_score(y_test, predictions))"
      ]
    }
  ],
  "metadata": {
    "colab": {
      "provenance": []
    },
    "kernelspec": {
      "display_name": "fiap5",
      "language": "python",
      "name": "python3"
    },
    "language_info": {
      "codemirror_mode": {
        "name": "ipython",
        "version": 3
      },
      "file_extension": ".py",
      "mimetype": "text/x-python",
      "name": "python",
      "nbconvert_exporter": "python",
      "pygments_lexer": "ipython3",
      "version": "3.11.9"
    }
  },
  "nbformat": 4,
  "nbformat_minor": 0
}
